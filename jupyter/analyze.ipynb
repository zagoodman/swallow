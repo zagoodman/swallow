{
 "cells": [
  {
   "cell_type": "markdown",
   "metadata": {},
   "source": [
    "# View html output of this notebook here:\n",
    "https://htmlpreview.github.io/?https://github.com/zagoodman/swallow/blob/main/jupyter/analyze.html"
   ]
  },
  {
   "cell_type": "markdown",
   "metadata": {
    "toc": true
   },
   "source": [
    "<h1>Table of Contents<span class=\"tocSkip\"></span></h1>\n",
    "<div class=\"toc\"><ul class=\"toc-item\"><li><span><a href=\"#Setup\" data-toc-modified-id=\"Setup-1\"><span class=\"toc-item-num\">1&nbsp;&nbsp;</span>Setup</a></span></li><li><span><a href=\"#Import-and-explore-data\" data-toc-modified-id=\"Import-and-explore-data-2\"><span class=\"toc-item-num\">2&nbsp;&nbsp;</span>Import and explore data</a></span><ul class=\"toc-item\"><li><span><a href=\"#Compare-features-by-gender\" data-toc-modified-id=\"Compare-features-by-gender-2.1\"><span class=\"toc-item-num\">2.1&nbsp;&nbsp;</span>Compare features by gender</a></span></li></ul></li><li><span><a href=\"#Demeaned-data\" data-toc-modified-id=\"Demeaned-data-3\"><span class=\"toc-item-num\">3&nbsp;&nbsp;</span>Demeaned data</a></span><ul class=\"toc-item\"><li><span><a href=\"#Gender-differences?\" data-toc-modified-id=\"Gender-differences?-3.1\"><span class=\"toc-item-num\">3.1&nbsp;&nbsp;</span>Gender differences?</a></span></li></ul></li><li><span><a href=\"#T-SNE\" data-toc-modified-id=\"T-SNE-4\"><span class=\"toc-item-num\">4&nbsp;&nbsp;</span>T-SNE</a></span></li></ul></div>"
   ]
  },
  {
   "cell_type": "markdown",
   "metadata": {},
   "source": [
    "This file takes calculated features data and visualizes relationships between features and swallow volume."
   ]
  },
  {
   "cell_type": "markdown",
   "metadata": {},
   "source": [
    "Description of features:\n",
    "<img src=\"../images/features.jpg\" width=1000>"
   ]
  },
  {
   "cell_type": "markdown",
   "metadata": {},
   "source": [
    "## Setup"
   ]
  },
  {
   "cell_type": "code",
   "execution_count": null,
   "metadata": {},
   "outputs": [],
   "source": [
    "import pandas as pd\n",
    "import numpy as np\n",
    "import matplotlib\n",
    "import matplotlib.pyplot as plt\n",
    "pd.set_option('display.max_columns', 100)\n",
    "pd.set_option('display.max_rows', 100)"
   ]
  },
  {
   "cell_type": "code",
   "execution_count": null,
   "metadata": {},
   "outputs": [],
   "source": [
    "# custom plot settings\n",
    "\n",
    "size=20\n",
    "params = {'legend.fontsize': 'large',\n",
    "          'legend.title_fontsize': size*0.75,\n",
    "          'legend.frameon': False,\n",
    "          'figure.figsize': (8,4),\n",
    "          'axes.labelsize': size,\n",
    "          'axes.titlesize': size,\n",
    "          'xtick.labelsize': size*0.75,\n",
    "          'ytick.labelsize': size*0.75,\n",
    "          'axes.titlepad': 10,\n",
    "          'figure.subplot.hspace': 0.9,\n",
    "          'font.sans-serif': 'Arial'}\n",
    "# matplotlib.rcParams.keys() # to see editable options\n",
    "plt.rcParams.update(params)"
   ]
  },
  {
   "cell_type": "markdown",
   "metadata": {},
   "source": [
    "## Import and explore data"
   ]
  },
  {
   "cell_type": "code",
   "execution_count": null,
   "metadata": {},
   "outputs": [],
   "source": [
    "# import data\n",
    "df = pd.read_excel('../data/gen/collapsed_data.xlsx')\n",
    "\n",
    "# create amplitude ratio feature\n",
    "df['amp_ratio'] = df.amplitude_1 / df.amplitude_3\n",
    "\n",
    "# create 'area under curve' feature (not really area, but correlated)\n",
    "df['auc_1'] = df.amplitude_1 * df.duration_2\n",
    "df['auc_2'] = df.amplitude_3 * (df.duration_3 - df.duration_2)\n",
    "\n",
    "# add gender to df\n",
    "male_list = [True, True, True, False, True, True, False, True, True, False]\n",
    "df['male'] = df.person_id.apply(lambda x: male_list[x-1])\n",
    "pd.crosstab(df.person_id, df.male)\n",
    "\n",
    "# check df\n",
    "print(df.isnull().sum())\n",
    "display(df.describe())\n",
    "df.head()"
   ]
  },
  {
   "cell_type": "code",
   "execution_count": null,
   "metadata": {
    "scrolled": false
   },
   "outputs": [],
   "source": [
    "# Mean of each feature by swallow volume\n",
    "\n",
    "dfmean = df.groupby('swallow_volume').agg('mean').reset_index()\n",
    "\n",
    "for x in [v for v in dfmean.columns if v not in ['swallow_volume', 'observation', 'person_id', 'swallow_id', 'male']]:\n",
    "    plt.scatter(dfmean.swallow_volume, dfmean[x])\n",
    "    plt.title(x)\n",
    "    plt.show()"
   ]
  },
  {
   "cell_type": "code",
   "execution_count": null,
   "metadata": {
    "scrolled": false
   },
   "outputs": [],
   "source": [
    "for x in [v for v in df.columns if v not in ['swallow_volume', 'observation', 'person_id', 'swallow_id', 'male']]:\n",
    "    display(df.boxplot(column=[x], by=['swallow_volume']))"
   ]
  },
  {
   "cell_type": "markdown",
   "metadata": {},
   "source": [
    "### Compare features by gender"
   ]
  },
  {
   "cell_type": "code",
   "execution_count": null,
   "metadata": {
    "scrolled": false
   },
   "outputs": [],
   "source": [
    "for x in [v for v in df.columns if v not in ['swallow_volume', 'observation', 'person_id', 'swallow_id', 'male']]:\n",
    "    display(df.boxplot(column=[x], by=['male']))\n",
    "    plt.title('')\n",
    "    plt.show()"
   ]
  },
  {
   "cell_type": "code",
   "execution_count": null,
   "metadata": {},
   "outputs": [],
   "source": []
  },
  {
   "cell_type": "code",
   "execution_count": null,
   "metadata": {},
   "outputs": [],
   "source": []
  },
  {
   "cell_type": "markdown",
   "metadata": {},
   "source": [
    "## Demeaned data"
   ]
  },
  {
   "cell_type": "code",
   "execution_count": null,
   "metadata": {},
   "outputs": [],
   "source": [
    "# demean function \n",
    "\n",
    "def demean(df, var = ['person_id']):\n",
    "    \"\"\"Demean df grouped by var, and divides by std dev. Returns a df.\n",
    "    \"\"\"\n",
    "    # get means\n",
    "    dfmeans = df.groupby(var).agg('mean').reset_index()\n",
    "    \n",
    "    # get std devs\n",
    "    dfstd = df.groupby(var).agg('std').reset_index()\n",
    "    \n",
    "    # loop through cols and demean\n",
    "    for x in [v for v in df.columns if v not in ['swallow_volume', 'observation', 'person_id', 'swallow_id', 'male']]:\n",
    "        dftmp = dfmeans[var + [x]]\n",
    "        dftmp = pd.concat([dftmp, dfstd[x]], 1)\n",
    "        dftmp.columns = var + ['xmean', 'xstd']\n",
    "        df = df.merge(dftmp, on=var, how='inner')\n",
    "        df[x] = (df[x] - df.xmean) / df.xstd\n",
    "        df.drop(['xmean', 'xstd'], 1, inplace=True)\n",
    "    \n",
    "    return df\n",
    "\n",
    "dfdemean = demean(df, ['person_id'])\n",
    "dfdemean.head()"
   ]
  },
  {
   "cell_type": "code",
   "execution_count": null,
   "metadata": {
    "scrolled": true
   },
   "outputs": [],
   "source": [
    "# plot demeaned boxplots\n",
    "\n",
    "for x in [v for v in dfdemean.columns if v not in ['swallow_volume', 'observation', 'person_id', 'swallow_id', 'male']]:\n",
    "    dfdemean.boxplot(column=[x], by=['swallow_volume'])"
   ]
  },
  {
   "cell_type": "code",
   "execution_count": null,
   "metadata": {
    "scrolled": false
   },
   "outputs": [],
   "source": [
    "import seaborn as sns\n",
    "\n",
    "# get subset\n",
    "dfsub = dfdemean.loc[(dfdemean.person_id <= 5) | (dfdemean.person_id == 7), :]\n",
    "\n",
    "for y in [v for v in dfsub.columns if v not in ['swallow_volume', 'observation', 'person_id', 'swallow_id', 'male']]:\n",
    "    print(y)\n",
    "    \n",
    "    # Plot\n",
    "    sns.set(font_scale=1.5)\n",
    "    sns.set_style(\"ticks\")\n",
    "    fig = plt.figure(figsize=(8,5))\n",
    "    ax1 = fig.add_subplot(111) # row, col, num\n",
    "    sns.stripplot(x='swallow_volume', y=y, hue='person_id', \n",
    "                  data=dfsub, dodge=True, jitter=True, alpha=.40, \n",
    "                  zorder=1, size=8)\n",
    "    sns.pointplot(x='swallow_volume', y=y, ci='sd', \n",
    "                  data=dfsub, join=False, scale=1.5, \n",
    "                  zorder=100, color='black')\n",
    "    ax1.set_xlabel('volume (mL)')\n",
    "    ax1.set_ylabel(y)\n",
    "    ax1.legend(title='person id', bbox_to_anchor=(1.01, 0.5), loc='center left', fontsize='xx-small')"
   ]
  },
  {
   "cell_type": "code",
   "execution_count": null,
   "metadata": {},
   "outputs": [],
   "source": [
    "# subplot with amp1, amp2, ampr, auc1\n",
    "\n",
    "# get data subset\n",
    "dfsub = dfdemean.loc[(dfdemean.person_id == 4) & (dfdemean.swallow_volume <= 15)]\n",
    "\n",
    "# init plot\n",
    "sns.set_style(\"ticks\")\n",
    "fig, ax = plt.subplots(2, 2, figsize=(12,8))\n",
    "\n",
    "# amp1\n",
    "y = 'amplitude_1'\n",
    "sns.stripplot(ax=ax[0,0], x='swallow_volume', y=y, hue='person_id', \n",
    "      data=dfsub, dodge=True, jitter=True, alpha=.40, \n",
    "      zorder=1)\n",
    "sns.pointplot(ax=ax[0,0], x='swallow_volume', y=y, ci='sd', \n",
    "      data=dfsub, join=False, \n",
    "      zorder=100, color='black')\n",
    "\n",
    "# amp2\n",
    "y = 'amplitude_2'\n",
    "sns.stripplot(ax=ax[0,1], x='swallow_volume', y=y, hue='person_id', \n",
    "      data=dfsub, dodge=True, jitter=True, alpha=.40, \n",
    "      zorder=1)\n",
    "sns.pointplot(ax=ax[0,1], x='swallow_volume', y=y, ci='sd', \n",
    "      data=dfsub, join=False, \n",
    "      zorder=100, color='black')\n",
    "\n",
    "# ampr\n",
    "y = 'amp_ratio'\n",
    "sns.stripplot(ax=ax[1,0], x='swallow_volume', y=y, hue='person_id', \n",
    "      data=dfsub, dodge=True, jitter=True, alpha=.40, \n",
    "      zorder=1)\n",
    "sns.pointplot(ax=ax[1,0], x='swallow_volume', y=y, ci='sd', \n",
    "      data=dfsub, join=False, \n",
    "      zorder=100, color='black')\n",
    "\n",
    "# auc1\n",
    "y = 'auc_1'\n",
    "sns.stripplot(ax=ax[1,1], x='swallow_volume', y=y, hue='person_id', \n",
    "      data=dfsub, dodge=True, jitter=True, alpha=.40, \n",
    "      zorder=1)\n",
    "sns.pointplot(ax=ax[1,1], x='swallow_volume', y=y, ci='sd', \n",
    "      data=dfsub, join=False, \n",
    "      zorder=100, color='black')\n",
    "\n",
    "ax[0,0].title.set_text('Amplitude of First Peak')\n",
    "ax[0,1].title.set_text('Amplitude of Second Peak')\n",
    "ax[1,0].title.set_text('Ratio of Peak Amplitudes')\n",
    "ax[1,1].title.set_text('Area Under Curve, First Peak')\n",
    "\n",
    "# all units are 'normalized' to be mean zero, stddev = 1\n",
    "ax[0,0].set_ylabel('Normalized Units')\n",
    "ax[0,1].set_ylabel('')\n",
    "ax[1,0].set_ylabel('Normalized Units')\n",
    "ax[1,1].set_ylabel('')\n",
    "# ax[0,0].set_ylabel('Normalized Amplitude')\n",
    "# ax[0,1].set_ylabel('Normalized Amplitude')\n",
    "# ax[1,0].set_ylabel('% Size')\n",
    "# ax[1,1].set_ylabel('Normalized Area')\n",
    "\n",
    "for i in range(2):\n",
    "    for j in range(2):\n",
    "        if i == 0:\n",
    "            ax[i, j].set_xlabel('')\n",
    "        else:\n",
    "            ax[i, j].set_xlabel('Swallow Volume (ml)')\n",
    "        ax[i,j].get_legend().remove()\n",
    "\n",
    "fig.tight_layout()"
   ]
  },
  {
   "cell_type": "code",
   "execution_count": null,
   "metadata": {},
   "outputs": [],
   "source": [
    "# subplot with amp1, amp2, ampr, auc1\n",
    "\n",
    "# get data subset\n",
    "dfsub = dfdemean.loc[(dfdemean.person_id == 4) & (dfdemean.swallow_volume > 0)]\n",
    "\n",
    "# init plot\n",
    "sns.set_style(\"ticks\")\n",
    "fig, ax = plt.subplots(2, 2, figsize=(12,8))\n",
    "\n",
    "# amp1\n",
    "y = 'amplitude_1'\n",
    "sns.stripplot(ax=ax[0,0], x='swallow_volume', y=y, hue='person_id', \n",
    "      data=dfsub, dodge=True, jitter=True, alpha=.40, \n",
    "      zorder=1)\n",
    "sns.pointplot(ax=ax[0,0], x='swallow_volume', y=y, ci='sd', \n",
    "      data=dfsub, join=False, \n",
    "      zorder=100, color='black')\n",
    "\n",
    "# amp2\n",
    "y = 'amplitude_2'\n",
    "sns.stripplot(ax=ax[0,1], x='swallow_volume', y=y, hue='person_id', \n",
    "      data=dfsub, dodge=True, jitter=True, alpha=.40, \n",
    "      zorder=1)\n",
    "sns.pointplot(ax=ax[0,1], x='swallow_volume', y=y, ci='sd', \n",
    "      data=dfsub, join=False, \n",
    "      zorder=100, color='black')\n",
    "\n",
    "# ampr\n",
    "y = 'amp_ratio'\n",
    "sns.stripplot(ax=ax[1,0], x='swallow_volume', y=y, hue='person_id', \n",
    "      data=dfsub, dodge=True, jitter=True, alpha=.40, \n",
    "      zorder=1)\n",
    "sns.pointplot(ax=ax[1,0], x='swallow_volume', y=y, ci='sd', \n",
    "      data=dfsub, join=False, \n",
    "      zorder=100, color='black')\n",
    "\n",
    "# auc1\n",
    "y = 'auc_1'\n",
    "sns.stripplot(ax=ax[1,1], x='swallow_volume', y=y, hue='person_id', \n",
    "      data=dfsub, dodge=True, jitter=True, alpha=.40, \n",
    "      zorder=1)\n",
    "sns.pointplot(ax=ax[1,1], x='swallow_volume', y=y, ci='sd', \n",
    "      data=dfsub, join=False, \n",
    "      zorder=100, color='black')\n",
    "\n",
    "ax[0,0].title.set_text('Amplitude of First Peak')\n",
    "ax[0,1].title.set_text('Amplitude of Second Peak')\n",
    "ax[1,0].title.set_text('Ratio of Peak Amplitudes')\n",
    "ax[1,1].title.set_text('Area Under Curve, First Peak')\n",
    "\n",
    "# all units are 'normalized' to be mean zero, stddev = 1\n",
    "ax[0,0].set_ylabel('Normalized Units')\n",
    "ax[0,1].set_ylabel('')\n",
    "ax[1,0].set_ylabel('Normalized Units')\n",
    "ax[1,1].set_ylabel('')\n",
    "# ax[0,0].set_ylabel('Normalized Amplitude')\n",
    "# ax[0,1].set_ylabel('Normalized Amplitude')\n",
    "# ax[1,0].set_ylabel('% Size')\n",
    "# ax[1,1].set_ylabel('Normalized Area')\n",
    "\n",
    "for i in range(2):\n",
    "    for j in range(2):\n",
    "        if i == 0:\n",
    "            ax[i, j].set_xlabel('')\n",
    "        else:\n",
    "            ax[i, j].set_xlabel('Swallow Volume (ml)')\n",
    "        ax[i,j].get_legend().remove()\n",
    "\n",
    "fig.tight_layout()"
   ]
  },
  {
   "cell_type": "code",
   "execution_count": null,
   "metadata": {
    "scrolled": false
   },
   "outputs": [],
   "source": [
    "# get subset\n",
    "dfsub = dfdemean.loc[(dfdemean.person_id <= 7) & (dfdemean.person_id != 6), :]\n",
    "\n",
    "for y in [v for v in dfsub.columns if v not in ['swallow_volume', 'observation', 'person_id', 'swallow_id', 'male']]:\n",
    "    print(y)\n",
    "    \n",
    "    # Plot\n",
    "    sns.set(font_scale=1.5)\n",
    "    sns.set_style(\"ticks\")\n",
    "    fig = plt.figure(figsize=(8,5))\n",
    "    ax1 = fig.add_subplot(111) # row, col, num\n",
    "    sns.stripplot(x='swallow_volume', y=y, hue='person_id', \n",
    "                  data=dfsub, dodge=True, jitter=True, alpha=.40, \n",
    "                  zorder=1, size=8)\n",
    "    sns.pointplot(x='swallow_volume', y=y, ci='sd', \n",
    "                  data=dfsub, join=False, scale=1.5, \n",
    "                  zorder=100, color='black')\n",
    "    ax1.set_xlabel('volume (mL)')\n",
    "    ax1.set_ylabel(y)\n",
    "    ax1.legend(title='person id', bbox_to_anchor=(1.01, 0.5), loc='center left', fontsize='xx-small')"
   ]
  },
  {
   "cell_type": "code",
   "execution_count": null,
   "metadata": {
    "scrolled": false
   },
   "outputs": [],
   "source": [
    "# get subset\n",
    "dfsub = dfdemean.loc[dfdemean.person_id >= 8, :]\n",
    "\n",
    "for y in [v for v in dfsub.columns if v not in ['swallow_volume', 'observation', 'person_id', 'swallow_id', 'male']]:\n",
    "    print(y)\n",
    "    \n",
    "    # Plot\n",
    "    sns.set(font_scale=1.5)\n",
    "    sns.set_style(\"ticks\")\n",
    "    fig = plt.figure(figsize=(8,5))\n",
    "    ax1 = fig.add_subplot(111) # row, col, num\n",
    "    sns.stripplot(x='swallow_volume', y=y, hue='person_id', \n",
    "                  data=dfsub, dodge=True, jitter=True, alpha=.40, \n",
    "                  zorder=1, size=8)\n",
    "    sns.pointplot(x='swallow_volume', y=y, ci='sd', \n",
    "                  data=dfsub, join=False, scale=1.5, \n",
    "                  zorder=100, color='black')\n",
    "    ax1.set_xlabel('volume (mL)')\n",
    "    ax1.set_ylabel(y)\n",
    "    ax1.legend(title='person id', bbox_to_anchor=(1.01, 0.5), loc='center left', fontsize='xx-small')"
   ]
  },
  {
   "cell_type": "markdown",
   "metadata": {},
   "source": [
    "### Gender differences?"
   ]
  },
  {
   "cell_type": "code",
   "execution_count": null,
   "metadata": {
    "scrolled": false
   },
   "outputs": [],
   "source": [
    "# get subset\n",
    "dfsub = df.loc[df.person_id >= 0, :]\n",
    "\n",
    "for y in [v for v in dfsub.columns if v not in ['swallow_volume', 'observation', 'person_id', 'swallow_id', 'male']]:\n",
    "    print(y)\n",
    "    \n",
    "    # Plot\n",
    "    sns.set(font_scale=1.5)\n",
    "    sns.set_style(\"ticks\")\n",
    "    fig = plt.figure(figsize=(8,5))\n",
    "    ax1 = fig.add_subplot(111) # row, col, num\n",
    "    sns.stripplot(x='male', y=y, hue='person_id', \n",
    "                  data=dfsub, dodge=True, jitter=True, alpha=.40, \n",
    "                  zorder=1, size=8)\n",
    "    sns.pointplot(x='male', y=y, ci='sd', \n",
    "                  data=dfsub, join=False, scale=1.5, \n",
    "                  zorder=100, color='black')\n",
    "    ax1.set_xlabel('Male (Boolean)')\n",
    "    ax1.set_ylabel(y)\n",
    "    ax1.legend(title='person id', bbox_to_anchor=(1.01, 0.5), loc='center left', fontsize='xx-small')"
   ]
  },
  {
   "cell_type": "code",
   "execution_count": null,
   "metadata": {},
   "outputs": [],
   "source": []
  },
  {
   "cell_type": "markdown",
   "metadata": {},
   "source": [
    "## T-SNE"
   ]
  },
  {
   "cell_type": "code",
   "execution_count": null,
   "metadata": {},
   "outputs": [],
   "source": [
    "# fit T-SNE and plot\n",
    "\n",
    "from sklearn.manifold import TSNE\n",
    "\n",
    "# get subset of data\n",
    "dfsub = df.loc[df.person_id >= 0, \n",
    "                 [c for c in df.columns if\n",
    "                  c not in ['observation', 'swallow_id', 'emg']]]\n",
    "\n",
    "# rescale data\n",
    "def rescale(vec):\n",
    "    return (vec - vec.mean()) / vec.std()\n",
    "for v in [c for c in dfsub.columns if c not in ['person_id', 'swallow_volume']]:\n",
    "    dfsub[v] = dfsub.groupby(['person_id'])[v].apply(lambda x: rescale(x))\n",
    "\n",
    "# define X and Y vecs\n",
    "X = dfsub.iloc[:, 2:-1]\n",
    "Y = dfsub.loc[:, 'swallow_volume']\n",
    "\n",
    "# fit model\n",
    "X_embedded = TSNE(n_components = 2, \n",
    "                  perplexity = 50,\n",
    "                  learning_rate = 100,\n",
    "                  n_iter = 5000).fit_transform(X, Y)\n",
    "print(X_embedded.shape)\n",
    "\n",
    "# merge results\n",
    "dfm = pd.concat([dfsub.reset_index(drop=True), \n",
    "                 pd.DataFrame(X_embedded, columns=['tsne0', 'tsne1'])], 1)\n",
    "dfm.head()\n",
    "\n",
    "\n",
    "\n",
    "# plot t-sne, color by person\n",
    "\n",
    "# color map\n",
    "cmap = plt.cm.jet\n",
    "\n",
    "fig, ax = plt.subplots()\n",
    "\n",
    "scatter = ax.scatter(dfm.tsne0, dfm.tsne1, c=dfm.person_id, cmap=cmap)\n",
    "ax.legend(*scatter.legend_elements(num=10), ncol=2,\n",
    "            loc=\"center left\", bbox_to_anchor=(1, 0.5), title=\"person id\")\n",
    "plt.title('Colored by person id')\n",
    "plt.show()\n",
    "\n",
    "\n",
    "# plot t-sne, color by swallow volume\n",
    "\n",
    "cmap = matplotlib.cm.Blues(np.linspace(0,1,10))\n",
    "cmap = matplotlib.colors.ListedColormap(cmap[2:,:-1])\n",
    "\n",
    "fig, ax = plt.subplots()\n",
    "\n",
    "scatter = ax.scatter(dfm.tsne0, dfm.tsne1, c=dfm.swallow_volume, cmap=cmap)\n",
    "ax.legend(*scatter.legend_elements(num=6),\n",
    "            loc=\"center left\", bbox_to_anchor=(1, 0.5), title=\"swallow volume\")\n",
    "plt.title('Colored by swallow volume')\n",
    "plt.show()\n",
    "\n",
    "\n",
    "# plot t-sne, color by gender\n",
    "\n",
    "fig, ax = plt.subplots()\n",
    "\n",
    "scatter = ax.scatter(dfm.tsne0, dfm.tsne1, c=df.male, cmap=cmap)\n",
    "ax.legend(*scatter.legend_elements(num=2),\n",
    "            loc=\"center left\", bbox_to_anchor=(1, 0.5), title=\"Male (Boolean)\")\n",
    "plt.title('Colored by gender')\n",
    "plt.show()"
   ]
  }
 ],
 "metadata": {
  "kernelspec": {
   "display_name": "Python 3",
   "language": "python",
   "name": "python3"
  },
  "language_info": {
   "codemirror_mode": {
    "name": "ipython",
    "version": 3
   },
   "file_extension": ".py",
   "mimetype": "text/x-python",
   "name": "python",
   "nbconvert_exporter": "python",
   "pygments_lexer": "ipython3",
   "version": "3.7.9"
  },
  "toc": {
   "base_numbering": 1,
   "nav_menu": {},
   "number_sections": true,
   "sideBar": true,
   "skip_h1_title": true,
   "title_cell": "Table of Contents",
   "title_sidebar": "Contents",
   "toc_cell": true,
   "toc_position": {},
   "toc_section_display": true,
   "toc_window_display": true
  }
 },
 "nbformat": 4,
 "nbformat_minor": 4
}
