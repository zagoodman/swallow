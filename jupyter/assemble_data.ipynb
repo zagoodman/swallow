{
 "cells": [
  {
   "cell_type": "markdown",
   "metadata": {},
   "source": [
    "# View html output of this notebook here:\n",
    "https://htmlpreview.github.io/?https://github.com/zagoodman/swallow/blob/main/jupyter/assemble_data.html"
   ]
  },
  {
   "cell_type": "markdown",
   "metadata": {
    "toc": true
   },
   "source": [
    "<h1>Table of Contents<span class=\"tocSkip\"></span></h1>\n",
    "<div class=\"toc\"><ul class=\"toc-item\"><li><span><a href=\"#Prep\" data-toc-modified-id=\"Prep-1\"><span class=\"toc-item-num\">1&nbsp;&nbsp;</span>Prep</a></span></li><li><span><a href=\"#Processed-strain-data\" data-toc-modified-id=\"Processed-strain-data-2\"><span class=\"toc-item-num\">2&nbsp;&nbsp;</span>Processed strain data</a></span><ul class=\"toc-item\"><li><span><a href=\"#Exploratory-functions\" data-toc-modified-id=\"Exploratory-functions-2.1\"><span class=\"toc-item-num\">2.1&nbsp;&nbsp;</span>Exploratory functions</a></span></li><li><span><a href=\"#Data-cleaning-function\" data-toc-modified-id=\"Data-cleaning-function-2.2\"><span class=\"toc-item-num\">2.2&nbsp;&nbsp;</span>Data cleaning function</a></span></li><li><span><a href=\"#Plotting-functions\" data-toc-modified-id=\"Plotting-functions-2.3\"><span class=\"toc-item-num\">2.3&nbsp;&nbsp;</span>Plotting functions</a></span></li><li><span><a href=\"#Get-dataframe-containing-data-for-all-study-participants\" data-toc-modified-id=\"Get-dataframe-containing-data-for-all-study-participants-2.4\"><span class=\"toc-item-num\">2.4&nbsp;&nbsp;</span>Get dataframe containing data for all study participants</a></span></li></ul></li></ul></div>"
   ]
  },
  {
   "cell_type": "markdown",
   "metadata": {},
   "source": [
    "This file takes 'processed' strain data and returns a dataframe lined-up on when the swallow begins. Currently, the process is optimized for one user's data, though with slight tweaks and more consistent data recording, the process should work similarly for future data records."
   ]
  },
  {
   "cell_type": "markdown",
   "metadata": {},
   "source": [
    "## Prep"
   ]
  },
  {
   "cell_type": "markdown",
   "metadata": {},
   "source": [
    "For this script to work, your folders should be as follows:\n",
    "- base directory\n",
    "    - data\n",
    "        - processed_strain\n",
    "            - andrew\n",
    "                - andrew_5_strain_swallow.mat\n",
    "                - andrew_10_strain_swallow.mat\n",
    "                - etc\n",
    "            - etc.\n",
    "    - jupyter\n",
    "        - this file"
   ]
  },
  {
   "cell_type": "code",
   "execution_count": null,
   "metadata": {},
   "outputs": [],
   "source": [
    "# import necessary libraries\n",
    "import pandas as pd\n",
    "import numpy as np\n",
    "import matplotlib.pyplot as plt\n",
    "pd.set_option('display.max_columns', 100)\n",
    "pd.set_option('display.max_rows', 100)\n",
    "import matplotlib\n",
    "from matplotlib import pyplot as plt\n",
    "from scipy.io import loadmat"
   ]
  },
  {
   "cell_type": "code",
   "execution_count": null,
   "metadata": {},
   "outputs": [],
   "source": [
    "# custom plot settings\n",
    "\n",
    "size=20\n",
    "params = {'legend.fontsize': 'large',\n",
    "          'legend.title_fontsize': size*0.75,\n",
    "          'legend.frameon': False,\n",
    "          'figure.figsize': (10,6),\n",
    "          'axes.labelsize': size,\n",
    "          'axes.titlesize': size,\n",
    "          'xtick.labelsize': size*0.75,\n",
    "          'ytick.labelsize': size*0.75,\n",
    "          'axes.titlepad': 10,\n",
    "          'figure.subplot.hspace': 0.9,\n",
    "          'font.sans-serif': 'Arial'}\n",
    "# matplotlib.rcParams.keys() # to see editable options\n",
    "plt.rcParams.update(params)"
   ]
  },
  {
   "cell_type": "markdown",
   "metadata": {},
   "source": [
    "## Processed strain data"
   ]
  },
  {
   "cell_type": "markdown",
   "metadata": {},
   "source": [
    "### Exploratory functions\n",
    "These help understand the raw data and check that they are as expected."
   ]
  },
  {
   "cell_type": "code",
   "execution_count": null,
   "metadata": {},
   "outputs": [],
   "source": [
    "def plot_raw(name='B', ml=5):\n",
    "    \"\"\"\n",
    "    Plots the raw time series for a given person and ml\n",
    "    \"\"\"\n",
    "    mat = loadmat('../data/processed_strain/'+name+'/'+name+'_' + str(ml) + '_strain_swallow.mat')\n",
    "    for i in range(0, 10): \n",
    "        time = mat['water_'+str(ml)+'ml'][0][i][0][0][0][0]\n",
    "        strain = mat['water_'+str(ml)+'ml'][0][i][0][0][1][0]\n",
    "        \n",
    "        # keep only first swallow data\n",
    "        time = time[:250]\n",
    "        strain = strain[:250]\n",
    "        \n",
    "        # normalize strain\n",
    "        strain = strain - strain[0]\n",
    "        \n",
    "        # normalize time\n",
    "        time = time - time[0]\n",
    "        \n",
    "        # get df\n",
    "        dftmp = pd.DataFrame({'time':time, 'strain':strain})\n",
    "        dftmp = dftmp.loc[dftmp.time.between(0, 30)]\n",
    "        \n",
    "        # plot\n",
    "        plt.plot(dftmp.time, dftmp.strain, alpha=0.3, c='blue')\n",
    "        \n",
    "    plt.show()\n",
    "        \n",
    "        \n",
    "plot_raw('B', 5)"
   ]
  },
  {
   "cell_type": "code",
   "execution_count": null,
   "metadata": {},
   "outputs": [],
   "source": [
    "def plot_smoothed(name='B', ml=5):\n",
    "    \"\"\"\n",
    "    Plots, for a given ml, a moving average of the strain time series.\n",
    "    The raw is in blue, moving average in red.\n",
    "    \"\"\"\n",
    "    mat = loadmat('../data/processed_strain/'+name+'/'+name+'_' + str(ml) + '_strain_swallow.mat')\n",
    "    for i in range(0, 10): \n",
    "        time = mat['water_'+str(ml)+'ml'][0][i][0][0][0][0]\n",
    "        strain = mat['water_'+str(ml)+'ml'][0][i][0][0][1][0]\n",
    "        \n",
    "        # keep only first swallow data\n",
    "        time = time[:250]\n",
    "        strain = strain[:250]\n",
    "        \n",
    "        # normalize strain\n",
    "        strain = strain - strain[0]\n",
    "        \n",
    "        # normalize time\n",
    "        time = time - time[0]\n",
    "        \n",
    "        # moving average\n",
    "        w = 8 # window\n",
    "        # add zeros to end of vec\n",
    "#         cumsum_vec = np.insert(strain, len(strain), np.zeros(int(np.floor(w/2))))\n",
    "        # add zeros to front of vec\n",
    "        cumsum_vec = np.insert(strain, 0, np.zeros(int(np.ceil(w/1))))\n",
    "        # calc cumulative sum, then moving average\n",
    "        cumsum_vec = np.cumsum(cumsum_vec)\n",
    "        ma_vec = (cumsum_vec[w:] - cumsum_vec[:-w]) / w\n",
    "        \n",
    "        # get df\n",
    "        dftmp = pd.DataFrame({'time':time, 'strain':strain, 'strain_sm':ma_vec})\n",
    "        dftmp = dftmp.loc[dftmp.time.between(6, 13)]\n",
    "        \n",
    "        # plot\n",
    "        plt.plot(dftmp.time, dftmp.strain, alpha=0.1, c='blue')\n",
    "        plt.plot(dftmp.time, dftmp.strain_sm, alpha=0.3, c='red')\n",
    "        \n",
    "    plt.show()\n",
    "        \n",
    "        \n",
    "plot_smoothed('B', 5)"
   ]
  },
  {
   "cell_type": "markdown",
   "metadata": {},
   "source": [
    "### Data cleaning function\n",
    "These help turn the raw data into something usable. ***get_person_df*** identifies the swallow in the raw strain data, then normalizes the swallow to start at time=0 and the strain to be zero when the swallow starts."
   ]
  },
  {
   "cell_type": "code",
   "execution_count": null,
   "metadata": {
    "scrolled": false
   },
   "outputs": [],
   "source": [
    "def get_person_df(name='B'):\n",
    "    \"\"\"\n",
    "    Fetches data for person 'name', returns df with \n",
    "    normalized strain data.\n",
    "    \n",
    "    Different: this function uses slope to find the swallow start\n",
    "    \"\"\"\n",
    "\n",
    "    # init df and colors\n",
    "    df = pd.DataFrame()\n",
    "    colors = ['red', 'orange', 'indigo', 'green', 'blue', 'violet']\n",
    "\n",
    "    # loop over 6 swallow amounts\n",
    "    for j in [5, 10, 15, 20, 25, 30]:\n",
    "        mat = loadmat('../data/processed_strain/' + name + '/' + name + \\\n",
    "                      '_' + str(j) + '_strain_swallow.mat')\n",
    "\n",
    "        # loop over 10 attempts\n",
    "        for i in range(10):\n",
    "\n",
    "            # get time and strain\n",
    "            time = mat['water_'+str(j)+'ml'][0][i][0][0][0][0]\n",
    "            strain = mat['water_'+str(j)+'ml'][0][i][0][0][1][0]\n",
    "\n",
    "            # keep only first swallow data\n",
    "            time = time[:250]\n",
    "            strain = strain[:250]\n",
    "\n",
    "            # normalize strain\n",
    "            # apply moving average to strain\n",
    "            w = 6 # window size\n",
    "            cumsum_vec = np.insert(strain, 0, [strain[0]] * w)\n",
    "            cumsum_vec = np.cumsum(cumsum_vec)\n",
    "            ma_vec = (cumsum_vec[w:] - cumsum_vec[:-w]) / w\n",
    "            \n",
    "            # get slopes\n",
    "            slope_vec = np.insert((ma_vec[1:] - ma_vec[:-1])/0.630, 0, 0)\n",
    "            # plot to check work\n",
    "#             print(max(slope_vec))\n",
    "#             fig, ax = plt.subplots(3, 1)\n",
    "#             ax[0].plot(time, strain)\n",
    "#             ax[1].plot(time, ma_vec)\n",
    "#             ax[2].plot(time, slope_vec)\n",
    "\n",
    "            # calculate critical slope, a weighted avg between \n",
    "            #  standard deviation of noise and the max slope\n",
    "            # TODO - better optimize this?\n",
    "            stddev = slope_vec[:150].std() # std deviation of noise\n",
    "            maxslope = max(slope_vec) # max slope\n",
    "            critical_slope = min((4*max(stddev * 3, 0.005) + 1*maxslope)/5, maxslope)\n",
    "            \n",
    "            # find where slope_vec is > critical slope\n",
    "            slope_idx = min([i for i, x in enumerate(slope_vec >= critical_slope) if x])\n",
    "            \n",
    "            # now find the next prev idx where slope is negative AND \n",
    "            #  next two slopes are flat or negative (< mcrit)\n",
    "            # valley_idx is the index of the valley before the swallow\n",
    "            valley_idx = 0\n",
    "            mcrit = 0.005\n",
    "            for k in range(slope_idx-1, 0, -1):\n",
    "                if slope_vec[k] < 0 and slope_vec[k-1] < mcrit and slope_vec[k-2] < mcrit:\n",
    "                    valley_idx = k # TODO k? or k-1, k+1, etc?\n",
    "                    break\n",
    "\n",
    "            # normalize strain to zero at valley\n",
    "            strain = strain - strain[valley_idx]\n",
    "            ma_vec = ma_vec - ma_vec[valley_idx]\n",
    "\n",
    "            # normalize time to zero at valley\n",
    "            time = time - time[valley_idx]\n",
    "\n",
    "            # construct temporary df with new data\n",
    "            dftmp = pd.DataFrame({'time':time, 'strain':strain, 'strain_sm':ma_vec, 'slope':slope_vec})\n",
    "            dftmp['s_vol'] = j\n",
    "            dftmp['test'] = int(i + (np.floor(j / 5) - 1) * 10)\n",
    "            dftmp['slope_idx'] = slope_idx\n",
    "            dftmp['valley_idx'] = valley_idx\n",
    "\n",
    "            # add to complete df\n",
    "            df = pd.concat([df, dftmp]).\\\n",
    "                reset_index(drop=True)\n",
    "\n",
    "            plt.plot(dftmp.time, dftmp.strain, label=j if i == 0 else \"\", \\\n",
    "                     alpha=0.2, c=colors[int((j-1)/5)])\n",
    "    return df\n",
    "\n",
    "df = get_person_df()\n",
    "plt.legend()\n",
    "display(df.head())"
   ]
  },
  {
   "cell_type": "code",
   "execution_count": null,
   "metadata": {},
   "outputs": [],
   "source": [
    "# Let's check the swallow identification.\n",
    "\n",
    "print(df.loc[df.time < -10, 'test'].value_counts().head(3))\n",
    "# print(df.loc[df.time > 7.5, 'test'].value_counts().head(3))\n",
    "\n",
    "# 43 and 27 have different challenges\n",
    "# 43 lacks a large first peak - the second peak dominates\n",
    "# 27 has a positive strain leading into the swallow\n",
    "for t in [43]:\n",
    "    dfsub = df.loc[df.test == t]\n",
    "    fig, ax = plt.subplots(3, 1, figsize=(8,6))\n",
    "    ax[0].plot(dfsub.time, dfsub.strain)\n",
    "    ax[0].title.set_text('raw strain')\n",
    "    ax[1].plot(dfsub.time, dfsub.strain_sm)\n",
    "    ax[1].title.set_text('smoothed strain')\n",
    "    ax[2].plot(dfsub.time, dfsub.slope)\n",
    "    ax[2].title.set_text('slope of smoothed strain')\n",
    "    plt.show()"
   ]
  },
  {
   "cell_type": "markdown",
   "metadata": {},
   "source": [
    "### Plotting functions\n",
    "***plot_strain_ts*** plots the time series for strain. Supply a dataframe containing the strain data, then set options:\n",
    "1. ```raw```: include the raw data in the background of the plot\n",
    "2. ```smooth```: use local average smoothing in plot"
   ]
  },
  {
   "cell_type": "code",
   "execution_count": null,
   "metadata": {},
   "outputs": [],
   "source": [
    "# plot averages\n",
    "\n",
    "def plot_strain_ts(df, name=\"\", timestart=-1, timeend=3, vols=[5,10,15,20], raw=True, smooth=False, colors=colors):\n",
    "    \"\"\"\n",
    "    Plots the time series of the average strain for each swallow volume in 'vols'.\n",
    "    Set raw=True to depict the raw data in the background of the plot.\n",
    "    Set smooth=True for local averages of the time series.\n",
    "    \"\"\"\n",
    "    # if smooth, keep only moving average\n",
    "    dff = df.copy()\n",
    "    if smooth:\n",
    "        dff.drop('strain', 1, inplace=True)\n",
    "        dff.rename(columns={'strain_sm': 'strain'}, inplace=True)\n",
    "        \n",
    "    # aggregate df\n",
    "    dff = dff.loc[dff.time.between(timestart, timeend)]\n",
    "    dffagg = dff.copy()\n",
    "    dffagg.time = dffagg.time.apply(lambda x: round(x, 1))\n",
    "    dffagg = dffagg.groupby(['time', 's_vol'])['strain'].agg('mean').reset_index()\n",
    "\n",
    "    # plot    \n",
    "    fig, ax = plt.subplots(1, 1, figsize=(12,8))\n",
    "    for v in vols:\n",
    "        dfsub = dffagg.loc[dffagg.s_vol == v]\n",
    "        ax.plot(dfsub.time, dfsub.strain, color=colors[int(v/5) - 1], label=v)\n",
    "        if raw:\n",
    "            for t in range(0, 10):\n",
    "                dfsub2 = dff.loc[(dff.test == int((v/5 - 1) * 10 + t)) & (dff.s_vol == v)]\n",
    "                ax.plot(dfsub2.time, dfsub2.strain, alpha=0.09, color=colors[int(v/5) - 1], label=\"\")\n",
    "\n",
    "    ax.legend(title='Volume (ml)')\n",
    "    plt.xlabel('Time Since Swallow Start (s)')\n",
    "    plt.ylabel('Normalized Strain')\n",
    "    if name != \"\":\n",
    "        strappend = ' for {}'.format(name)\n",
    "    else:\n",
    "        strappend = ''\n",
    "    if smooth:\n",
    "        plt.title('Average Strain{}, Smoothed'.format(strappend))\n",
    "    else:\n",
    "        plt.title('Average Strain{}, Unsmoothed'.format(strappend))\n",
    "    plt.show()\n",
    "\n",
    "# select colors\n",
    "# colors = ['tab:blue', 'tab:orange', 'tab:green', 'tab:red', 'tab:purple', 'tab:brown']\n",
    "colors = matplotlib.cm.Reds(np.linspace(0, 1, 8))[2:]\n",
    "\n",
    "vols=[5, 10, 15, 20, 25, 30]\n",
    "plot_strain_ts(df, vols=vols, name='Person 1', colors=colors, raw=False)\n",
    "plot_strain_ts(df, vols=vols, name='Person 1', smooth=True, colors=colors, raw=False)"
   ]
  },
  {
   "cell_type": "code",
   "execution_count": null,
   "metadata": {},
   "outputs": [],
   "source": [
    "# select colors\n",
    "colors = ['tab:blue', 'tab:orange', 'tab:green', 'tab:red', 'tab:purple', 'tab:brown']\n",
    "# colors = matplotlib.cm.Reds(np.linspace(0, 1, 8))[2:]\n",
    "\n",
    "vols=[5, 10, 15, 20, 25, 30]\n",
    "plot_strain_ts(df, vols=vols, name='Person 1', colors=colors)\n",
    "plot_strain_ts(df, vols=vols, name='Person 1', smooth=True, colors=colors)"
   ]
  },
  {
   "cell_type": "code",
   "execution_count": null,
   "metadata": {},
   "outputs": [],
   "source": [
    "colors = matplotlib.cm.viridis_r(np.linspace(0, 1, 8))[2:]\n",
    "\n",
    "vols=[5, 10, 15, 20, 25, 30]\n",
    "plot_strain_ts(df, vols=vols, name='Person 1', colors=colors)\n",
    "plot_strain_ts(df, vols=vols, name='Person 1', smooth=True, colors=colors)"
   ]
  },
  {
   "cell_type": "markdown",
   "metadata": {},
   "source": [
    "### Get dataframe containing data for all study participants\n",
    "Here we concatenate the data from all four study participants for whom we have data."
   ]
  },
  {
   "cell_type": "code",
   "execution_count": null,
   "metadata": {},
   "outputs": [],
   "source": [
    "# get df for all people\n",
    "\n",
    "dfall = pd.DataFrame()\n",
    "\n",
    "for n in ['B', 'andrew', 'rachel', 'steve']:\n",
    "    print(n)\n",
    "    dftmp = get_person_df(n)\n",
    "    dftmp['name'] = n\n",
    "    dfall = pd.concat([dfall, dftmp])\n",
    "    \n",
    "dfall"
   ]
  },
  {
   "cell_type": "code",
   "execution_count": null,
   "metadata": {
    "scrolled": false
   },
   "outputs": [],
   "source": [
    "# check name's data\n",
    "\n",
    "name = 'andrew'\n",
    "vols = [5, 10]\n",
    "\n",
    "for v in vols:\n",
    "    plot_raw(name=name, ml=v)\n",
    "    plot_smoothed(name=name, ml=v)\n",
    "\n",
    "dfsub = dfall.loc[dfall.name == name]\n",
    "plot_strain_ts(dfsub, name=name, vols=vols, smooth=False)\n",
    "plot_strain_ts(dfsub, name=name, vols=vols, smooth=True)\n"
   ]
  },
  {
   "cell_type": "code",
   "execution_count": null,
   "metadata": {
    "scrolled": false
   },
   "outputs": [],
   "source": [
    "# check name's data\n",
    "\n",
    "name = 'steve'\n",
    "vols = [5, 10]\n",
    "\n",
    "for v in vols:\n",
    "    plot_raw(name=name, ml=v)\n",
    "    plot_smoothed(name=name, ml=v)\n",
    "\n",
    "dfsub = dfall.loc[dfall.name == name]\n",
    "plot_strain_ts(dfsub, name=name, vols=vols, smooth=False)\n",
    "plot_strain_ts(dfsub, name=name, vols=vols, smooth=True)\n"
   ]
  },
  {
   "cell_type": "code",
   "execution_count": null,
   "metadata": {},
   "outputs": [],
   "source": [
    "# aggregate within time/volume, plot averages\n",
    "\n",
    "dfagg = dfall.copy()\n",
    "dfagg.time = dfagg.time.apply(lambda x: round(x, 1))\n",
    "dfagg = dfagg.groupby(['time', 's_vol', 'name'])['strain'].agg('mean').reset_index()\n",
    "dfagg = dfagg.loc[dfagg.time.between(-5, 5)]\n",
    "names = ['B', 'andrew', 'rachel', 'steve']\n",
    "\n",
    "f, ax = plt.subplots(4, 1, sharex=True, figsize=(10,8))\n",
    "\n",
    "\n",
    "for k in range(len(names)):\n",
    "    n = names[k]\n",
    "    for l in range(1, 3):\n",
    "        ml = 5 * l\n",
    "        dfsub = dfagg.loc[(dfagg.name == n) & (dfagg.s_vol == ml), :]\n",
    "        ax[k].plot(dfsub.time, dfsub.strain,\n",
    "                 label = ml)\n",
    "        ax[k].set_title(n)\n",
    "        ax[k].legend()\n",
    "    \n",
    "plt.show()"
   ]
  },
  {
   "cell_type": "code",
   "execution_count": null,
   "metadata": {},
   "outputs": [],
   "source": []
  },
  {
   "cell_type": "code",
   "execution_count": null,
   "metadata": {},
   "outputs": [],
   "source": []
  },
  {
   "cell_type": "code",
   "execution_count": null,
   "metadata": {},
   "outputs": [],
   "source": []
  },
  {
   "cell_type": "code",
   "execution_count": null,
   "metadata": {},
   "outputs": [],
   "source": []
  },
  {
   "cell_type": "code",
   "execution_count": null,
   "metadata": {},
   "outputs": [],
   "source": []
  },
  {
   "cell_type": "code",
   "execution_count": null,
   "metadata": {},
   "outputs": [],
   "source": []
  },
  {
   "cell_type": "code",
   "execution_count": null,
   "metadata": {},
   "outputs": [],
   "source": []
  },
  {
   "cell_type": "code",
   "execution_count": null,
   "metadata": {},
   "outputs": [],
   "source": []
  },
  {
   "cell_type": "code",
   "execution_count": null,
   "metadata": {},
   "outputs": [],
   "source": []
  },
  {
   "cell_type": "code",
   "execution_count": null,
   "metadata": {},
   "outputs": [],
   "source": []
  }
 ],
 "metadata": {
  "kernelspec": {
   "display_name": "Python 3",
   "language": "python",
   "name": "python3"
  },
  "language_info": {
   "codemirror_mode": {
    "name": "ipython",
    "version": 3
   },
   "file_extension": ".py",
   "mimetype": "text/x-python",
   "name": "python",
   "nbconvert_exporter": "python",
   "pygments_lexer": "ipython3",
   "version": "3.7.9"
  },
  "toc": {
   "base_numbering": 1,
   "nav_menu": {},
   "number_sections": true,
   "sideBar": false,
   "skip_h1_title": true,
   "title_cell": "Table of Contents",
   "title_sidebar": "Contents",
   "toc_cell": true,
   "toc_position": {
    "height": "522.4px",
    "left": "10px",
    "top": "150px",
    "width": "165px"
   },
   "toc_section_display": false,
   "toc_window_display": true
  }
 },
 "nbformat": 4,
 "nbformat_minor": 4
}
